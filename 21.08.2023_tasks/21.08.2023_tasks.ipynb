{
 "cells": [
  {
   "cell_type": "code",
   "execution_count": 2,
   "id": "82c13c1c",
   "metadata": {},
   "outputs": [],
   "source": [
    "# 1. Parallel Matrix Multiplication:\n",
    "\n",
    "# Implement parallel matrix multiplication using the concurrent.futures\n",
    "# module to speed up the computation of large matrices. (you can declare the matrixes using, ex. lists or tuples)\n"
   ]
  },
  {
   "cell_type": "code",
   "execution_count": 31,
   "id": "ecf533f7",
   "metadata": {},
   "outputs": [
    {
     "name": "stdout",
     "output_type": "stream",
     "text": [
      "[18, 52, 35, 4]\n",
      "[41, 84, 43, 9]\n",
      "[62, 164, 81, 12]\n",
      "[77, 186, 99, 16]\n",
      "[41, 185, 92, 6]\n"
     ]
    }
   ],
   "source": [
    "import concurrent.futures\n",
    "\n",
    "def matrix_multiply_element(i, j, A, B):\n",
    "    return sum(A[i][k] * B[k][j] for k in range(len(A[0])))\n",
    "\n",
    "def parallel_matrix_multiply(A, B):\n",
    "    with concurrent.futures.ThreadPoolExecutor() as executor:\n",
    "        return [\n",
    "            [executor.submit(matrix_multiply_element, i, j, A, B).result() for j in range(len(B[0]))]\n",
    "            for i in range(len(A))\n",
    "        ]\n",
    "\n",
    "matrix_A = [\n",
    "    [2, 6, 9, 4],\n",
    "    [5, 6, 6, 9],\n",
    "    [14, 10, 11, 12],\n",
    "    [13, 14, 15, 16],\n",
    "    [17, 9, 25, 6]\n",
    "]\n",
    "\n",
    "matrix_B = [\n",
    "    [1, 6, 2, 0],\n",
    "    [0, 1, 3, 0],\n",
    "    [0, 2, 1, 0],\n",
    "    [4, 4, 1, 1],\n",
    "    [5, 2, 3, 7]\n",
    "]\n",
    "\n",
    "result_matrix = parallel_matrix_multiply(matrix_A, matrix_B)\n",
    "for row in result_matrix:\n",
    "    print(row)\n"
   ]
  },
  {
   "cell_type": "code",
   "execution_count": 16,
   "id": "e926945e",
   "metadata": {},
   "outputs": [],
   "source": [
    "# 2. Distributed Web Scraping:\n",
    "# Select a website. Distribute web scraping tasks across multiple processes or threads using libraries\n",
    "# like concurrent.futures or Scrapy to gather data from various websites simultaneously."
   ]
  },
  {
   "cell_type": "code",
   "execution_count": 22,
   "id": "3e18534d",
   "metadata": {},
   "outputs": [
    {
     "name": "stdout",
     "output_type": "stream",
     "text": [
      "Data from https://www.delfi.lv/: \r\n",
      "<!doctype html>\n",
      "<html lang=\"lv\">\n",
      "<head>\n",
      "\n",
      "        \r\n",
      "    <script type=\"text/javascript\" charset=\"UTF-8\" src=\"//cdn.cookie-script.com/s/c10350552ab7f0f03fe25211ab8dc568.js\"></script>\r\n",
      "    \n",
      "    <link rel=\"dns-prefetch preconnect\" href=\"//g.delfi.lv\" crossorigin>\n",
      "<link rel=\"dns-prefetch preconnect\" href=\"//g.delfi.lv\" crossorigin>\n",
      "<link rel=\"dns-prefetch preconnect\" href=\"//g.delfi.lv\" crossorigin>\n",
      "<link rel=\"dns-prefetch preconnect\" href=\"//g.delfi.lv\" crossorigin>\n",
      "<link rel=\"dns-prefetch\" href=\"/\n",
      "Data from https://www.tvnet.lv/: <!DOCTYPE html><html lang=\"lv\" class=\"device-desktop\"><head><meta charset=\"utf-8\"><script>document.cookie = \"__adblocker=; expires=Thu, 01 Jan 1970 00:00:00 GMT; path=/\";\n",
      "    let setNptTechAdblockerCookie = function(adblocker) {\n",
      "      let d = new Date();\n",
      "      d.setTime(d.getTime() + 60 * 5 * 1000);\n",
      "      document.cookie = \"__adblocker=\" + (adblocker ? \"true\" : \"false\") + \"; expires=\" + d.toUTCString() + \"; path=/\";\n",
      "    };\n",
      "\n",
      "    let script = document.createElement(\"script\");\n",
      "    script.setAttribu\n",
      "Data from https://www.lsm.lv/: <!doctype html>\n",
      "<html class=\"no-js \" lang=\"lv\">\n",
      "<head>\n",
      "\t<meta charset=\"utf-8\">\n",
      "\t<title>LSM.lv - Uzticamas ziņas</title>\n",
      "\n",
      "    <link rel=\"preconnect\" href=\"https://fonts.gstatic.com\">\n",
      "\t<link rel=\"apple-touch-icon\" sizes=\"57x57\" href=\"/assets/icons/apple-icon-57x57.png\">\n",
      "\t<link rel=\"apple-touch-icon\" sizes=\"60x60\" href=\"/assets/icons/apple-icon-60x60.png\">\n",
      "\t<link rel=\"apple-touch-icon\" sizes=\"72x72\" href=\"/assets/icons/apple-icon-72x72.png\">\n",
      "\t<link rel=\"apple-touch-icon\" sizes=\"76x76\" href=\"/assets\n",
      "Data from https://www.leta.lv/: <!DOCTYPE html>\n",
      "<html>\n",
      "\t<head>\n",
      "\t\t<meta http-equiv=\"Content-Type\" content=\"text/html; charset=utf-8\" />\n",
      "\t\t\t\t\n",
      "\t\t<title>LETA</title>\n",
      "\n",
      "\t\t\n",
      "\t\t<link rel=\"apple-touch-icon\" sizes=\"180x180\" href=\"/icons/apple-touch-icon.png\">\n",
      "\t\t<link rel=\"icon\" type=\"image/png\" sizes=\"32x32\" href=\"/icons/favicon-32x32.png\">\n",
      "\t\t<link rel=\"icon\" type=\"image/png\" sizes=\"16x16\" href=\"/icons/favicon-16x16.png\">\n",
      "\t\t<link rel=\"manifest\" href=\"/icons/site.webmanifest?202108P0\">\n",
      "\t\t<link rel=\"mask-icon\" href=\"/icons/safari-pinned-ta\n",
      "Data from https://www.apollo.lv/: <!DOCTYPE html><html lang=\"lv\" class=\"device-desktop\"><head><meta charset=\"utf-8\"><script>document.cookie = \"__adblocker=; expires=Thu, 01 Jan 1970 00:00:00 GMT; path=/\";\n",
      "    let setNptTechAdblockerCookie = function(adblocker) {\n",
      "      let d = new Date();\n",
      "      d.setTime(d.getTime() + 60 * 5 * 1000);\n",
      "      document.cookie = \"__adblocker=\" + (adblocker ? \"true\" : \"false\") + \"; expires=\" + d.toUTCString() + \"; path=/\";\n",
      "    };\n",
      "\n",
      "    let script = document.createElement(\"script\");\n",
      "    script.setAttribu\n"
     ]
    }
   ],
   "source": [
    "import requests\n",
    "import concurrent.futures\n",
    "\n",
    "def scrape_lv_website(url):\n",
    "    response = requests.get(url)\n",
    "    return response.text[:500] \n",
    "\n",
    "lv_websites = [\n",
    "    'https://www.delfi.lv/',\n",
    "    'https://www.tvnet.lv/',\n",
    "    'https://www.lsm.lv/',\n",
    "    'https://www.leta.lv/',\n",
    "    'https://www.apollo.lv/'\n",
    "]\n",
    "\n",
    "with concurrent.futures.ThreadPoolExecutor() as executor:\n",
    "    lv_results = executor.map(scrape_lv_website, lv_websites)\n",
    "\n",
    "for lv_url, lv_result in zip(lv_websites, lv_results):\n",
    "    print(f\"Data from {lv_url}: {lv_result}\")\n",
    "\n"
   ]
  },
  {
   "cell_type": "code",
   "execution_count": 27,
   "id": "38bb1ce7",
   "metadata": {},
   "outputs": [],
   "source": [
    "# 3. Parallel Word Count:\n",
    "# Distribute the task of counting words in multiple text files across\n",
    "# multiple processes using the concurrent.futures module. "
   ]
  },
  {
   "cell_type": "code",
   "execution_count": 28,
   "id": "54b1089d",
   "metadata": {},
   "outputs": [
    {
     "name": "stdout",
     "output_type": "stream",
     "text": [
      "Word count in C:\\Ieva\\Python_Bootcamp\\Task folder\\Randomtext_1.txt: 593\n",
      "Word count in C:\\Ieva\\Python_Bootcamp\\Task folder\\Randomtext_2.txt: 539\n",
      "Word count in C:\\Ieva\\Python_Bootcamp\\Task folder\\Randomtext_3.txt: 580\n"
     ]
    }
   ],
   "source": [
    "import concurrent.futures\n",
    "\n",
    "def count_words(filename):\n",
    "    with open(filename, 'r') as file:\n",
    "        content = file.read()\n",
    "        words = content.split()\n",
    "        return len(words)\n",
    "\n",
    "if __name__ == '__main__':\n",
    "    file_names = ['C:\\\\Ieva\\\\Python_Bootcamp\\\\Task folder\\\\Randomtext_1.txt', 'C:\\\\Ieva\\\\Python_Bootcamp\\\\Task folder\\\\Randomtext_2.txt', 'C:\\\\Ieva\\\\Python_Bootcamp\\\\Task folder\\\\Randomtext_3.txt']\n",
    "\n",
    "    with concurrent.futures.ThreadPoolExecutor(max_workers=2) as executor:\n",
    "        word_counts = executor.map(count_words, file_names)\n",
    "    \n",
    "    for filename, count in zip(file_names, word_counts):\n",
    "        print(f\"Word count in {filename}: {count}\")\n"
   ]
  },
  {
   "cell_type": "code",
   "execution_count": null,
   "id": "b3cb35c2",
   "metadata": {},
   "outputs": [],
   "source": []
  }
 ],
 "metadata": {
  "kernelspec": {
   "display_name": "Python 3 (ipykernel)",
   "language": "python",
   "name": "python3"
  },
  "language_info": {
   "codemirror_mode": {
    "name": "ipython",
    "version": 3
   },
   "file_extension": ".py",
   "mimetype": "text/x-python",
   "name": "python",
   "nbconvert_exporter": "python",
   "pygments_lexer": "ipython3",
   "version": "3.10.11"
  }
 },
 "nbformat": 4,
 "nbformat_minor": 5
}
