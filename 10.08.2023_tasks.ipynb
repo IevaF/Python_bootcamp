{
 "cells": [
  {
   "cell_type": "code",
   "execution_count": 133,
   "id": "5fa9dc05",
   "metadata": {},
   "outputs": [],
   "source": [
    "# Cassandra database"
   ]
  },
  {
   "cell_type": "code",
   "execution_count": 150,
   "id": "aa4c593b",
   "metadata": {},
   "outputs": [],
   "source": [
    "from cassandra.cluster import Cluster\n",
    "from cassandra.query import dict_factory\n",
    "from cassandra.query import SimpleStatement\n",
    "import uuid\n",
    "import sqlite3\n",
    "import time\n",
    "import random\n",
    "from datetime import datetime, timedelta"
   ]
  },
  {
   "cell_type": "code",
   "execution_count": 163,
   "id": "25efaa40",
   "metadata": {},
   "outputs": [
    {
     "data": {
      "text/plain": [
       "UUID('9f2ff6d3-f373-44f7-916a-0756afc27779')"
      ]
     },
     "execution_count": 163,
     "metadata": {},
     "output_type": "execute_result"
    }
   ],
   "source": [
    "uuid.uuid4()"
   ]
  },
  {
   "cell_type": "code",
   "execution_count": 164,
   "id": "a7d23aaf",
   "metadata": {},
   "outputs": [],
   "source": [
    "cluster = Cluster([\"127.0.0.1\"],port=9042)"
   ]
  },
  {
   "cell_type": "code",
   "execution_count": 165,
   "id": "859c1fb2",
   "metadata": {},
   "outputs": [],
   "source": [
    "session = cluster.connect()"
   ]
  },
  {
   "cell_type": "code",
   "execution_count": 166,
   "id": "a5ff91ed",
   "metadata": {},
   "outputs": [
    {
     "data": {
      "text/plain": [
       "<cassandra.cluster.ResultSet at 0x1f7794985e0>"
      ]
     },
     "execution_count": 166,
     "metadata": {},
     "output_type": "execute_result"
    }
   ],
   "source": [
    "create_keyspace_query = \"\"\"\n",
    "CREATE KEYSPACE IF NOT EXISTS ecommerce\n",
    "WITH replication = {'class': 'SimpleStrategy', 'replication_factor': 1}\n",
    "\"\"\"\n",
    "session.execute(create_keyspace_query)"
   ]
  },
  {
   "cell_type": "code",
   "execution_count": 167,
   "id": "18054eb0",
   "metadata": {},
   "outputs": [],
   "source": [
    "# Data Model Creation:\n",
    "# Design a data model for an e-commerce platform to handle products, orders, and user information.\n",
    "# Define appropriate column families and primary keys to ensure efficient querying.\n",
    "# Insert sample data into the Cassandra database, including user information and product details."
   ]
  },
  {
   "cell_type": "code",
   "execution_count": 168,
   "id": "4fcebb4a",
   "metadata": {},
   "outputs": [],
   "source": [
    "session.set_keyspace('ecommerce')"
   ]
  },
  {
   "cell_type": "code",
   "execution_count": 169,
   "id": "91bf8fae",
   "metadata": {},
   "outputs": [
    {
     "data": {
      "text/plain": [
       "<cassandra.cluster.ResultSet at 0x1f7794989a0>"
      ]
     },
     "execution_count": 169,
     "metadata": {},
     "output_type": "execute_result"
    }
   ],
   "source": [
    "# Create products table\n",
    "create_products_table_query = \"\"\"\n",
    "CREATE TABLE IF NOT EXISTS products (\n",
    "    product_id UUID PRIMARY KEY,\n",
    "    name TEXT,\n",
    "    description TEXT,\n",
    "    price DECIMAL,\n",
    "    category TEXT\n",
    ")\n",
    "\"\"\"\n",
    "session.execute(create_products_table_query)"
   ]
  },
  {
   "cell_type": "code",
   "execution_count": 114,
   "id": "1ad4e1d0",
   "metadata": {},
   "outputs": [],
   "source": [
    "# insert product data\n",
    "insert_product_query = \"\"\"\n",
    "INSERT INTO products (product_id, name, description, price, category)\n",
    "VALUES (%(product_id)s, %(name)s, %(description)s, %(price)s, %(category)s)\n",
    "\"\"\"\n",
    "\n",
    "products_data = [\n",
    "    {\"product_id\": uuid.UUID(\"3dca3e67-1b43-4c5e-9cfd-9423b4878f01\"), \"name\": \"Laptop\", \"description\": \"High-performance laptop\", \"price\": 1200, \"category\": \"Electronics\"},\n",
    "    {\"product_id\": uuid.UUID(\"4eab2b59-4c2f-4ec0-a865-86dbca73e869\"), \"name\": \"Monitor\", \"description\": \"27-inch 4K monitor\", \"price\": 300, \"category\": \"Electronics\"},\n",
    "    {\"product_id\": uuid.UUID(\"3e6fa09d-2a67-4f08-86e3-4efc5c42c22a\"), \"name\": \"Keyboard\", \"description\": \"logitech k120\", \"price\": 40, \"category\": \"Electronics\"}\n",
    "]\n",
    "\n",
    "for product in products_data:\n",
    "    session.execute(insert_product_query, product)\n"
   ]
  },
  {
   "cell_type": "code",
   "execution_count": 110,
   "id": "bdc07837",
   "metadata": {},
   "outputs": [
    {
     "data": {
      "text/plain": [
       "<cassandra.cluster.ResultSet at 0x1f7788ddcf0>"
      ]
     },
     "execution_count": 110,
     "metadata": {},
     "output_type": "execute_result"
    }
   ],
   "source": [
    "# Create orders table\n",
    "create_orders_table_query = \"\"\"\n",
    "CREATE TABLE IF NOT EXISTS orders (\n",
    "    order_id UUID PRIMARY KEY,\n",
    "    user_id UUID,\n",
    "    order_date TIMESTAMP,\n",
    "    total_amount DECIMAL,\n",
    "    status TEXT\n",
    ")\n",
    "\"\"\"\n",
    "session.execute(create_orders_table_query)"
   ]
  },
  {
   "cell_type": "code",
   "execution_count": 117,
   "id": "fdb45526",
   "metadata": {},
   "outputs": [],
   "source": [
    "# insert orders data\n",
    "insert_order_query = \"\"\"\n",
    "INSERT INTO orders (order_id, user_id, order_date, total_amount, status)\n",
    "VALUES (%(order_id)s, %(user_id)s, %(order_date)s, %(total_amount)s, %(status)s)\n",
    "\"\"\"\n",
    "\n",
    "orders_data = [\n",
    "    {\"order_id\": uuid.UUID(\"5e563a2b-79c2-4b66-9ca2-1f3ca812e1a2\"), \"user_id\": uuid.UUID(\"1f14b2e1-4857-4c98-882d-8d2e818e6b68\"), \"order_date\": datetime.now(), \"total_amount\": 15, \"status\": \"Completed\"},\n",
    "    {\"order_id\": uuid.UUID(\"6f84729e-50d7-48b7-91c0-2ec55feab89d\"), \"user_id\": uuid.UUID(\"1f14b2e1-4857-4c98-882d-8d2e818e6b68\"), \"order_date\": datetime.now(), \"total_amount\": 3, \"status\": \"Pending\"},\n",
    "    {\"order_id\": uuid.UUID(\"7d91444a-2c35-4c22-842a-99e3f6ce8c4b\"), \"user_id\": uuid.UUID(\"2f84b82f-9e7e-4d4c-88e9-3b40d1d10d4a\"), \"order_date\": datetime.now(), \"total_amount\": 9, \"status\": \"Completed\"}\n",
    "]\n",
    "\n",
    "for order in orders_data:\n",
    "    session.execute(insert_order_query, order)"
   ]
  },
  {
   "cell_type": "code",
   "execution_count": 118,
   "id": "569fbd06",
   "metadata": {},
   "outputs": [
    {
     "data": {
      "text/plain": [
       "<cassandra.cluster.ResultSet at 0x1f779269360>"
      ]
     },
     "execution_count": 118,
     "metadata": {},
     "output_type": "execute_result"
    }
   ],
   "source": [
    "# Create users table\n",
    "create_users_table_query = \"\"\"\n",
    "CREATE TABLE IF NOT EXISTS users (\n",
    "    user_id UUID PRIMARY KEY,\n",
    "    name TEXT,\n",
    "    email TEXT,\n",
    "    address TEXT\n",
    ")\n",
    "\"\"\"\n",
    "session.execute(create_users_table_query)"
   ]
  },
  {
   "cell_type": "code",
   "execution_count": 119,
   "id": "0fe76d16",
   "metadata": {},
   "outputs": [],
   "source": [
    "# insert users data\n",
    "insert_user_query = \"\"\"\n",
    "INSERT INTO users (user_id, name, email, address)\n",
    "VALUES (%(user_id)s, %(name)s, %(email)s, %(address)s)\n",
    "\"\"\"\n",
    "users_data = [\n",
    "    {\"user_id\": uuid.UUID(\"1f14b2e1-4857-4c98-882d-8d2e818e6b68\"), \"name\": \"Karlis Zarins\", \"email\": \"karlis.zarins@gmail.com\", \"address\": \"Meistaru 6, Riga\"},\n",
    "    {\"user_id\": uuid.UUID(\"2f84b82f-9e7e-4d4c-88e9-3b40d1d10d4a\"), \"name\": \"Zane Caune\", \"email\": \"Zane.caune@gmail.com\", \"address\": \"Bikernieku 7, Riga\"},\n",
    "    {\"user_id\": uuid.UUID(\"a2bfb965-68e6-4d8c-b181-9c6a2a3c4b50\"), \"name\": \"Edgars Raunis\", \"email\": \"Edgars.raunis@gmail.com\", \"address\": \"Maskavas 250/2, Riga\"}\n",
    "]\n",
    "for user in users_data:\n",
    "    session.execute(insert_user_query, user)"
   ]
  },
  {
   "cell_type": "code",
   "execution_count": 125,
   "id": "cb2fc722",
   "metadata": {},
   "outputs": [
    {
     "name": "stdout",
     "output_type": "stream",
     "text": [
      "Order ID: 5e563a2b-79c2-4b66-9ca2-1f3ca812e1a2\n",
      "Order Date: 2023-08-13 10:13:57.156000\n",
      "Total Amount: 15\n",
      "Status: Completed\n",
      "Order ID: 6f84729e-50d7-48b7-91c0-2ec55feab89d\n",
      "Order Date: 2023-08-13 10:13:57.156000\n",
      "Total Amount: 3\n",
      "Status: Pending\n"
     ]
    }
   ],
   "source": [
    "# Retrieve a user's order history using CQL (Cassandra Query Language).\n",
    "\n",
    "session.row_factory = dict_factory\n",
    "user_id = uuid.UUID(\"1f14b2e1-4857-4c98-882d-8d2e818e6b68\")\n",
    "\n",
    "select_orders_query = \"\"\"\n",
    "SELECT * FROM orders WHERE user_id = %(user_id)s ALLOW FILTERING\n",
    "\"\"\"\n",
    "\n",
    "order_history = session.execute(select_orders_query, {\"user_id\": user_id})\n",
    "\n",
    "for order in order_history:\n",
    "    print(\"Order ID:\", order[\"order_id\"])\n",
    "    print(\"Order Date:\", order[\"order_date\"])\n",
    "    print(\"Total Amount:\", order[\"total_amount\"])\n",
    "    print(\"Status:\", order[\"status\"])"
   ]
  },
  {
   "cell_type": "code",
   "execution_count": 126,
   "id": "bfd59c96",
   "metadata": {},
   "outputs": [],
   "source": [
    "# Time-Series Data:\n",
    "# Design a schema to handle time-series data, such as IoT sensor readings.\n",
    "# Insert and retrieve time-series data efficiently, using appropriate time-based partitioning."
   ]
  },
  {
   "cell_type": "code",
   "execution_count": 159,
   "id": "afeec17c",
   "metadata": {},
   "outputs": [
    {
     "data": {
      "text/plain": [
       "<cassandra.cluster.ResultSet at 0x1f779700670>"
      ]
     },
     "execution_count": 159,
     "metadata": {},
     "output_type": "execute_result"
    }
   ],
   "source": [
    "# Design the schema with time-based data\n",
    "create_sensor_readings_table_query = \"\"\"\n",
    "CREATE TABLE IF NOT EXISTS sensor_readings (\n",
    "    warehouse_id UUID,\n",
    "    timestamp TIMESTAMP,\n",
    "    temperature FLOAT,\n",
    "    PRIMARY KEY (warehouse_id, timestamp)\n",
    ") WITH CLUSTERING ORDER BY (timestamp DESC);\n",
    "\"\"\"\n",
    "\n",
    "session.execute(create_sensor_readings_table_query)"
   ]
  },
  {
   "cell_type": "code",
   "execution_count": 170,
   "id": "4ec96f1d",
   "metadata": {},
   "outputs": [],
   "source": [
    "# Insert sensor readings data with simulated time series\n",
    "warehouse_id = uuid.uuid4()\n",
    "\n",
    "for _ in range(100):\n",
    "    timestamp = datetime.now()\n",
    "    temperature = 20.0 + random.uniform(-5.0, 5.0)\n",
    "    insert_reading_query = \"\"\"\n",
    "    INSERT INTO sensor_readings (warehouse_id, timestamp, temperature)\n",
    "    VALUES (%s, %s, %s)\n",
    "    \"\"\"\n",
    "    session.execute(insert_reading_query, (warehouse_id, timestamp, temperature))"
   ]
  },
  {
   "cell_type": "code",
   "execution_count": 171,
   "id": "9854ac79",
   "metadata": {},
   "outputs": [
    {
     "name": "stdout",
     "output_type": "stream",
     "text": [
      "Row(warehouse_id=UUID('8bfed691-e001-402c-97aa-a1e972812ccb'), timestamp=datetime.datetime(2023, 8, 13, 10, 57, 8, 9000), temperature=18.845659255981445)\n",
      "Row(warehouse_id=UUID('8bfed691-e001-402c-97aa-a1e972812ccb'), timestamp=datetime.datetime(2023, 8, 13, 10, 57, 7, 994000), temperature=21.067142486572266)\n",
      "Row(warehouse_id=UUID('8bfed691-e001-402c-97aa-a1e972812ccb'), timestamp=datetime.datetime(2023, 8, 13, 10, 57, 7, 978000), temperature=21.609975814819336)\n",
      "Row(warehouse_id=UUID('8bfed691-e001-402c-97aa-a1e972812ccb'), timestamp=datetime.datetime(2023, 8, 13, 10, 57, 7, 963000), temperature=16.166860580444336)\n",
      "Row(warehouse_id=UUID('8bfed691-e001-402c-97aa-a1e972812ccb'), timestamp=datetime.datetime(2023, 8, 13, 10, 57, 7, 948000), temperature=24.03549575805664)\n",
      "Row(warehouse_id=UUID('8bfed691-e001-402c-97aa-a1e972812ccb'), timestamp=datetime.datetime(2023, 8, 13, 10, 57, 7, 932000), temperature=21.299055099487305)\n",
      "Row(warehouse_id=UUID('8bfed691-e001-402c-97aa-a1e972812ccb'), timestamp=datetime.datetime(2023, 8, 13, 10, 57, 7, 917000), temperature=16.52109718322754)\n",
      "Row(warehouse_id=UUID('8bfed691-e001-402c-97aa-a1e972812ccb'), timestamp=datetime.datetime(2023, 8, 13, 10, 57, 7, 902000), temperature=23.49151039123535)\n",
      "Row(warehouse_id=UUID('8bfed691-e001-402c-97aa-a1e972812ccb'), timestamp=datetime.datetime(2023, 8, 13, 10, 57, 7, 887000), temperature=20.67622184753418)\n",
      "Row(warehouse_id=UUID('8bfed691-e001-402c-97aa-a1e972812ccb'), timestamp=datetime.datetime(2023, 8, 13, 10, 57, 7, 871000), temperature=18.820955276489258)\n",
      "Row(warehouse_id=UUID('8bfed691-e001-402c-97aa-a1e972812ccb'), timestamp=datetime.datetime(2023, 8, 13, 10, 57, 7, 855000), temperature=24.919729232788086)\n",
      "Row(warehouse_id=UUID('8bfed691-e001-402c-97aa-a1e972812ccb'), timestamp=datetime.datetime(2023, 8, 13, 10, 57, 7, 840000), temperature=24.312255859375)\n",
      "Row(warehouse_id=UUID('8bfed691-e001-402c-97aa-a1e972812ccb'), timestamp=datetime.datetime(2023, 8, 13, 10, 57, 7, 824000), temperature=20.596330642700195)\n",
      "Row(warehouse_id=UUID('8bfed691-e001-402c-97aa-a1e972812ccb'), timestamp=datetime.datetime(2023, 8, 13, 10, 57, 7, 809000), temperature=17.159847259521484)\n",
      "Row(warehouse_id=UUID('8bfed691-e001-402c-97aa-a1e972812ccb'), timestamp=datetime.datetime(2023, 8, 13, 10, 57, 7, 794000), temperature=23.323286056518555)\n",
      "Row(warehouse_id=UUID('8bfed691-e001-402c-97aa-a1e972812ccb'), timestamp=datetime.datetime(2023, 8, 13, 10, 57, 7, 778000), temperature=17.318817138671875)\n",
      "Row(warehouse_id=UUID('8bfed691-e001-402c-97aa-a1e972812ccb'), timestamp=datetime.datetime(2023, 8, 13, 10, 57, 7, 763000), temperature=19.62493324279785)\n",
      "Row(warehouse_id=UUID('8bfed691-e001-402c-97aa-a1e972812ccb'), timestamp=datetime.datetime(2023, 8, 13, 10, 57, 7, 747000), temperature=21.380050659179688)\n",
      "Row(warehouse_id=UUID('8bfed691-e001-402c-97aa-a1e972812ccb'), timestamp=datetime.datetime(2023, 8, 13, 10, 57, 7, 731000), temperature=23.458669662475586)\n",
      "Row(warehouse_id=UUID('8bfed691-e001-402c-97aa-a1e972812ccb'), timestamp=datetime.datetime(2023, 8, 13, 10, 57, 7, 715000), temperature=17.479585647583008)\n",
      "Row(warehouse_id=UUID('8bfed691-e001-402c-97aa-a1e972812ccb'), timestamp=datetime.datetime(2023, 8, 13, 10, 57, 7, 700000), temperature=19.209692001342773)\n",
      "Row(warehouse_id=UUID('8bfed691-e001-402c-97aa-a1e972812ccb'), timestamp=datetime.datetime(2023, 8, 13, 10, 57, 7, 684000), temperature=16.629907608032227)\n",
      "Row(warehouse_id=UUID('8bfed691-e001-402c-97aa-a1e972812ccb'), timestamp=datetime.datetime(2023, 8, 13, 10, 57, 7, 668000), temperature=21.045669555664062)\n",
      "Row(warehouse_id=UUID('8bfed691-e001-402c-97aa-a1e972812ccb'), timestamp=datetime.datetime(2023, 8, 13, 10, 57, 7, 653000), temperature=24.490678787231445)\n",
      "Row(warehouse_id=UUID('8bfed691-e001-402c-97aa-a1e972812ccb'), timestamp=datetime.datetime(2023, 8, 13, 10, 57, 7, 638000), temperature=20.446256637573242)\n",
      "Row(warehouse_id=UUID('8bfed691-e001-402c-97aa-a1e972812ccb'), timestamp=datetime.datetime(2023, 8, 13, 10, 57, 7, 623000), temperature=20.872161865234375)\n",
      "Row(warehouse_id=UUID('8bfed691-e001-402c-97aa-a1e972812ccb'), timestamp=datetime.datetime(2023, 8, 13, 10, 57, 7, 607000), temperature=21.936870574951172)\n",
      "Row(warehouse_id=UUID('8bfed691-e001-402c-97aa-a1e972812ccb'), timestamp=datetime.datetime(2023, 8, 13, 10, 57, 7, 592000), temperature=19.695945739746094)\n",
      "Row(warehouse_id=UUID('8bfed691-e001-402c-97aa-a1e972812ccb'), timestamp=datetime.datetime(2023, 8, 13, 10, 57, 7, 577000), temperature=18.109817504882812)\n",
      "Row(warehouse_id=UUID('8bfed691-e001-402c-97aa-a1e972812ccb'), timestamp=datetime.datetime(2023, 8, 13, 10, 57, 7, 561000), temperature=19.561391830444336)\n",
      "Row(warehouse_id=UUID('8bfed691-e001-402c-97aa-a1e972812ccb'), timestamp=datetime.datetime(2023, 8, 13, 10, 57, 7, 546000), temperature=24.393491744995117)\n",
      "Row(warehouse_id=UUID('8bfed691-e001-402c-97aa-a1e972812ccb'), timestamp=datetime.datetime(2023, 8, 13, 10, 57, 7, 530000), temperature=21.644001007080078)\n",
      "Row(warehouse_id=UUID('8bfed691-e001-402c-97aa-a1e972812ccb'), timestamp=datetime.datetime(2023, 8, 13, 10, 57, 7, 515000), temperature=23.854228973388672)\n",
      "Row(warehouse_id=UUID('8bfed691-e001-402c-97aa-a1e972812ccb'), timestamp=datetime.datetime(2023, 8, 13, 10, 57, 7, 499000), temperature=19.051156997680664)\n",
      "Row(warehouse_id=UUID('8bfed691-e001-402c-97aa-a1e972812ccb'), timestamp=datetime.datetime(2023, 8, 13, 10, 57, 7, 483000), temperature=21.160715103149414)\n",
      "Row(warehouse_id=UUID('8bfed691-e001-402c-97aa-a1e972812ccb'), timestamp=datetime.datetime(2023, 8, 13, 10, 57, 7, 468000), temperature=15.887407302856445)\n",
      "Row(warehouse_id=UUID('8bfed691-e001-402c-97aa-a1e972812ccb'), timestamp=datetime.datetime(2023, 8, 13, 10, 57, 7, 452000), temperature=20.135440826416016)\n",
      "Row(warehouse_id=UUID('8bfed691-e001-402c-97aa-a1e972812ccb'), timestamp=datetime.datetime(2023, 8, 13, 10, 57, 7, 437000), temperature=18.4773006439209)\n",
      "Row(warehouse_id=UUID('8bfed691-e001-402c-97aa-a1e972812ccb'), timestamp=datetime.datetime(2023, 8, 13, 10, 57, 7, 422000), temperature=15.375807762145996)\n",
      "Row(warehouse_id=UUID('8bfed691-e001-402c-97aa-a1e972812ccb'), timestamp=datetime.datetime(2023, 8, 13, 10, 57, 7, 407000), temperature=22.106365203857422)\n",
      "Row(warehouse_id=UUID('8bfed691-e001-402c-97aa-a1e972812ccb'), timestamp=datetime.datetime(2023, 8, 13, 10, 57, 7, 391000), temperature=15.284440994262695)\n",
      "Row(warehouse_id=UUID('8bfed691-e001-402c-97aa-a1e972812ccb'), timestamp=datetime.datetime(2023, 8, 13, 10, 57, 7, 376000), temperature=18.01534080505371)\n",
      "Row(warehouse_id=UUID('8bfed691-e001-402c-97aa-a1e972812ccb'), timestamp=datetime.datetime(2023, 8, 13, 10, 57, 7, 360000), temperature=15.633954048156738)\n",
      "Row(warehouse_id=UUID('8bfed691-e001-402c-97aa-a1e972812ccb'), timestamp=datetime.datetime(2023, 8, 13, 10, 57, 7, 345000), temperature=21.48767852783203)\n",
      "Row(warehouse_id=UUID('8bfed691-e001-402c-97aa-a1e972812ccb'), timestamp=datetime.datetime(2023, 8, 13, 10, 57, 7, 330000), temperature=18.12788963317871)\n",
      "Row(warehouse_id=UUID('8bfed691-e001-402c-97aa-a1e972812ccb'), timestamp=datetime.datetime(2023, 8, 13, 10, 57, 7, 314000), temperature=18.420804977416992)\n",
      "Row(warehouse_id=UUID('8bfed691-e001-402c-97aa-a1e972812ccb'), timestamp=datetime.datetime(2023, 8, 13, 10, 57, 7, 298000), temperature=17.88432502746582)\n",
      "Row(warehouse_id=UUID('8bfed691-e001-402c-97aa-a1e972812ccb'), timestamp=datetime.datetime(2023, 8, 13, 10, 57, 7, 282000), temperature=17.25283432006836)\n",
      "Row(warehouse_id=UUID('8bfed691-e001-402c-97aa-a1e972812ccb'), timestamp=datetime.datetime(2023, 8, 13, 10, 57, 7, 267000), temperature=20.175039291381836)\n",
      "Row(warehouse_id=UUID('8bfed691-e001-402c-97aa-a1e972812ccb'), timestamp=datetime.datetime(2023, 8, 13, 10, 57, 7, 251000), temperature=17.684858322143555)\n",
      "Row(warehouse_id=UUID('8bfed691-e001-402c-97aa-a1e972812ccb'), timestamp=datetime.datetime(2023, 8, 13, 10, 57, 7, 236000), temperature=24.074609756469727)\n",
      "Row(warehouse_id=UUID('8bfed691-e001-402c-97aa-a1e972812ccb'), timestamp=datetime.datetime(2023, 8, 13, 10, 57, 7, 221000), temperature=18.68023109436035)\n",
      "Row(warehouse_id=UUID('8bfed691-e001-402c-97aa-a1e972812ccb'), timestamp=datetime.datetime(2023, 8, 13, 10, 57, 7, 206000), temperature=15.370233535766602)\n",
      "Row(warehouse_id=UUID('8bfed691-e001-402c-97aa-a1e972812ccb'), timestamp=datetime.datetime(2023, 8, 13, 10, 57, 7, 191000), temperature=16.88142967224121)\n",
      "Row(warehouse_id=UUID('8bfed691-e001-402c-97aa-a1e972812ccb'), timestamp=datetime.datetime(2023, 8, 13, 10, 57, 7, 175000), temperature=21.077341079711914)\n",
      "Row(warehouse_id=UUID('8bfed691-e001-402c-97aa-a1e972812ccb'), timestamp=datetime.datetime(2023, 8, 13, 10, 57, 7, 160000), temperature=19.426210403442383)\n",
      "Row(warehouse_id=UUID('8bfed691-e001-402c-97aa-a1e972812ccb'), timestamp=datetime.datetime(2023, 8, 13, 10, 57, 7, 145000), temperature=23.776905059814453)\n",
      "Row(warehouse_id=UUID('8bfed691-e001-402c-97aa-a1e972812ccb'), timestamp=datetime.datetime(2023, 8, 13, 10, 57, 7, 130000), temperature=20.07929801940918)\n",
      "Row(warehouse_id=UUID('8bfed691-e001-402c-97aa-a1e972812ccb'), timestamp=datetime.datetime(2023, 8, 13, 10, 57, 7, 114000), temperature=24.660715103149414)\n",
      "Row(warehouse_id=UUID('8bfed691-e001-402c-97aa-a1e972812ccb'), timestamp=datetime.datetime(2023, 8, 13, 10, 57, 7, 98000), temperature=18.042234420776367)\n",
      "Row(warehouse_id=UUID('8bfed691-e001-402c-97aa-a1e972812ccb'), timestamp=datetime.datetime(2023, 8, 13, 10, 57, 7, 82000), temperature=18.333555221557617)\n",
      "Row(warehouse_id=UUID('8bfed691-e001-402c-97aa-a1e972812ccb'), timestamp=datetime.datetime(2023, 8, 13, 10, 57, 7, 67000), temperature=16.312437057495117)\n",
      "Row(warehouse_id=UUID('8bfed691-e001-402c-97aa-a1e972812ccb'), timestamp=datetime.datetime(2023, 8, 13, 10, 57, 7, 52000), temperature=17.37171745300293)\n",
      "Row(warehouse_id=UUID('8bfed691-e001-402c-97aa-a1e972812ccb'), timestamp=datetime.datetime(2023, 8, 13, 10, 57, 7, 36000), temperature=18.321008682250977)\n",
      "Row(warehouse_id=UUID('8bfed691-e001-402c-97aa-a1e972812ccb'), timestamp=datetime.datetime(2023, 8, 13, 10, 57, 7, 20000), temperature=22.7366886138916)\n",
      "Row(warehouse_id=UUID('8bfed691-e001-402c-97aa-a1e972812ccb'), timestamp=datetime.datetime(2023, 8, 13, 10, 57, 7, 5000), temperature=23.45964241027832)\n",
      "Row(warehouse_id=UUID('8bfed691-e001-402c-97aa-a1e972812ccb'), timestamp=datetime.datetime(2023, 8, 13, 10, 57, 6, 990000), temperature=24.24627113342285)\n",
      "Row(warehouse_id=UUID('8bfed691-e001-402c-97aa-a1e972812ccb'), timestamp=datetime.datetime(2023, 8, 13, 10, 57, 6, 975000), temperature=23.35193634033203)\n",
      "Row(warehouse_id=UUID('8bfed691-e001-402c-97aa-a1e972812ccb'), timestamp=datetime.datetime(2023, 8, 13, 10, 57, 6, 960000), temperature=19.955596923828125)\n",
      "Row(warehouse_id=UUID('8bfed691-e001-402c-97aa-a1e972812ccb'), timestamp=datetime.datetime(2023, 8, 13, 10, 57, 6, 944000), temperature=17.792739868164062)\n",
      "Row(warehouse_id=UUID('8bfed691-e001-402c-97aa-a1e972812ccb'), timestamp=datetime.datetime(2023, 8, 13, 10, 57, 6, 929000), temperature=21.832429885864258)\n",
      "Row(warehouse_id=UUID('8bfed691-e001-402c-97aa-a1e972812ccb'), timestamp=datetime.datetime(2023, 8, 13, 10, 57, 6, 914000), temperature=19.2752628326416)\n",
      "Row(warehouse_id=UUID('8bfed691-e001-402c-97aa-a1e972812ccb'), timestamp=datetime.datetime(2023, 8, 13, 10, 57, 6, 898000), temperature=17.01637840270996)\n",
      "Row(warehouse_id=UUID('8bfed691-e001-402c-97aa-a1e972812ccb'), timestamp=datetime.datetime(2023, 8, 13, 10, 57, 6, 883000), temperature=16.075275421142578)\n",
      "Row(warehouse_id=UUID('8bfed691-e001-402c-97aa-a1e972812ccb'), timestamp=datetime.datetime(2023, 8, 13, 10, 57, 6, 867000), temperature=24.268537521362305)\n",
      "Row(warehouse_id=UUID('8bfed691-e001-402c-97aa-a1e972812ccb'), timestamp=datetime.datetime(2023, 8, 13, 10, 57, 6, 852000), temperature=15.823370933532715)\n",
      "Row(warehouse_id=UUID('8bfed691-e001-402c-97aa-a1e972812ccb'), timestamp=datetime.datetime(2023, 8, 13, 10, 57, 6, 837000), temperature=21.77212905883789)\n",
      "Row(warehouse_id=UUID('8bfed691-e001-402c-97aa-a1e972812ccb'), timestamp=datetime.datetime(2023, 8, 13, 10, 57, 6, 822000), temperature=22.97047996520996)\n",
      "Row(warehouse_id=UUID('8bfed691-e001-402c-97aa-a1e972812ccb'), timestamp=datetime.datetime(2023, 8, 13, 10, 57, 6, 806000), temperature=18.64039421081543)\n",
      "Row(warehouse_id=UUID('8bfed691-e001-402c-97aa-a1e972812ccb'), timestamp=datetime.datetime(2023, 8, 13, 10, 57, 6, 791000), temperature=24.0454044342041)\n",
      "Row(warehouse_id=UUID('8bfed691-e001-402c-97aa-a1e972812ccb'), timestamp=datetime.datetime(2023, 8, 13, 10, 57, 6, 776000), temperature=18.876203536987305)\n",
      "Row(warehouse_id=UUID('8bfed691-e001-402c-97aa-a1e972812ccb'), timestamp=datetime.datetime(2023, 8, 13, 10, 57, 6, 760000), temperature=18.612821578979492)\n",
      "Row(warehouse_id=UUID('8bfed691-e001-402c-97aa-a1e972812ccb'), timestamp=datetime.datetime(2023, 8, 13, 10, 57, 6, 745000), temperature=16.318159103393555)\n",
      "Row(warehouse_id=UUID('8bfed691-e001-402c-97aa-a1e972812ccb'), timestamp=datetime.datetime(2023, 8, 13, 10, 57, 6, 730000), temperature=16.69561767578125)\n",
      "Row(warehouse_id=UUID('8bfed691-e001-402c-97aa-a1e972812ccb'), timestamp=datetime.datetime(2023, 8, 13, 10, 57, 6, 715000), temperature=20.080352783203125)\n",
      "Row(warehouse_id=UUID('8bfed691-e001-402c-97aa-a1e972812ccb'), timestamp=datetime.datetime(2023, 8, 13, 10, 57, 6, 700000), temperature=16.789979934692383)\n",
      "Row(warehouse_id=UUID('8bfed691-e001-402c-97aa-a1e972812ccb'), timestamp=datetime.datetime(2023, 8, 13, 10, 57, 6, 684000), temperature=19.93982696533203)\n",
      "Row(warehouse_id=UUID('8bfed691-e001-402c-97aa-a1e972812ccb'), timestamp=datetime.datetime(2023, 8, 13, 10, 57, 6, 669000), temperature=24.75161361694336)\n",
      "Row(warehouse_id=UUID('8bfed691-e001-402c-97aa-a1e972812ccb'), timestamp=datetime.datetime(2023, 8, 13, 10, 57, 6, 654000), temperature=20.33580780029297)\n",
      "Row(warehouse_id=UUID('8bfed691-e001-402c-97aa-a1e972812ccb'), timestamp=datetime.datetime(2023, 8, 13, 10, 57, 6, 638000), temperature=15.960407257080078)\n",
      "Row(warehouse_id=UUID('8bfed691-e001-402c-97aa-a1e972812ccb'), timestamp=datetime.datetime(2023, 8, 13, 10, 57, 6, 623000), temperature=22.215890884399414)\n",
      "Row(warehouse_id=UUID('8bfed691-e001-402c-97aa-a1e972812ccb'), timestamp=datetime.datetime(2023, 8, 13, 10, 57, 6, 608000), temperature=22.771093368530273)\n",
      "Row(warehouse_id=UUID('8bfed691-e001-402c-97aa-a1e972812ccb'), timestamp=datetime.datetime(2023, 8, 13, 10, 57, 6, 594000), temperature=15.814260482788086)\n",
      "Row(warehouse_id=UUID('8bfed691-e001-402c-97aa-a1e972812ccb'), timestamp=datetime.datetime(2023, 8, 13, 10, 57, 6, 578000), temperature=21.717147827148438)\n",
      "Row(warehouse_id=UUID('8bfed691-e001-402c-97aa-a1e972812ccb'), timestamp=datetime.datetime(2023, 8, 13, 10, 57, 6, 563000), temperature=17.486270904541016)\n",
      "Row(warehouse_id=UUID('8bfed691-e001-402c-97aa-a1e972812ccb'), timestamp=datetime.datetime(2023, 8, 13, 10, 57, 6, 548000), temperature=24.11098289489746)\n",
      "Row(warehouse_id=UUID('8bfed691-e001-402c-97aa-a1e972812ccb'), timestamp=datetime.datetime(2023, 8, 13, 10, 57, 6, 532000), temperature=19.531219482421875)\n",
      "Row(warehouse_id=UUID('8bfed691-e001-402c-97aa-a1e972812ccb'), timestamp=datetime.datetime(2023, 8, 13, 10, 57, 6, 517000), temperature=19.69679069519043)\n",
      "Row(warehouse_id=UUID('8bfed691-e001-402c-97aa-a1e972812ccb'), timestamp=datetime.datetime(2023, 8, 13, 10, 57, 6, 501000), temperature=23.16573143005371)\n",
      "Row(warehouse_id=UUID('8bfed691-e001-402c-97aa-a1e972812ccb'), timestamp=datetime.datetime(2023, 8, 13, 10, 57, 6, 492000), temperature=17.76700210571289)\n"
     ]
    }
   ],
   "source": [
    "# Retrieve sensor readings data \n",
    "start_time = datetime.now() - timedelta(minutes=30)\n",
    "end_time = datetime.now()\n",
    "\n",
    "select_readings_query = \"\"\"\n",
    "SELECT * FROM sensor_readings\n",
    "WHERE warehouse_id = %s AND timestamp >= %s AND timestamp <= %s\n",
    "\"\"\"\n",
    "\n",
    "result_set = session.execute(select_readings_query, (warehouse_id, start_time, end_time))\n",
    "\n",
    "for row in result_set:\n",
    "    print(row)\n",
    "\n",
    "session.shutdown()\n",
    "cluster.shutdown()"
   ]
  },
  {
   "cell_type": "code",
   "execution_count": 395,
   "id": "3c3a5596",
   "metadata": {},
   "outputs": [],
   "source": [
    "# Neo4\n",
    "# Connecting to Neo4"
   ]
  },
  {
   "cell_type": "code",
   "execution_count": 396,
   "id": "65587921",
   "metadata": {},
   "outputs": [],
   "source": [
    "from neo4j import GraphDatabase"
   ]
  },
  {
   "cell_type": "code",
   "execution_count": 397,
   "id": "c1b2f2d5",
   "metadata": {},
   "outputs": [],
   "source": [
    "uri = \"neo4j+s://170b1206.databases.neo4j.io\"\n",
    "username = \"neo4j\"\n",
    "password = \"4JPi8xWrpKhlrAslT-XKAFqiIZsFLurn-WHLq-sr58Q\""
   ]
  },
  {
   "cell_type": "code",
   "execution_count": 398,
   "id": "33970be0",
   "metadata": {},
   "outputs": [],
   "source": [
    "driver = GraphDatabase.driver(uri,auth=(username,password))"
   ]
  },
  {
   "cell_type": "code",
   "execution_count": 399,
   "id": "aaee5cf7",
   "metadata": {},
   "outputs": [],
   "source": [
    "# Graph Creation:\n",
    "# Build a graph database to represent a social network, with nodes for users and relationships for friendships.\n",
    "# Create nodes for users and relationships to model their interactions."
   ]
  },
  {
   "cell_type": "code",
   "execution_count": 469,
   "id": "fb7729b8",
   "metadata": {},
   "outputs": [],
   "source": [
    "def create_graph(tx):\n",
    "    tx.run(\"CREATE (alice:User {name: 'Alice'})\"\n",
    "           \"CREATE (carl:User {name: 'Carl'})\"\n",
    "           \"CREATE (sandra:User {name: 'Sandra'})\"\n",
    "           \"CREATE (christine:User {name: 'Christine'})\"\n",
    "           \"CREATE (item1:Item {name: 'Movie'})\"\n",
    "           \"CREATE (item2:Item {name: 'Book'})\"\n",
    "           \"CREATE (alice)-[:FRIEND]->(carl)\"\n",
    "           \"CREATE (carl)-[:FRIEND]->(christine)\"\n",
    "           \"CREATE (sandra)-[:FRIEND]->(carl)\"\n",
    "           \"CREATE (carl)-[:FRIEND]->(sandra)\"\n",
    "           \"CREATE (alice)-[:LIKES]->(item1)\"\n",
    "           \"CREATE (carl)-[:LIKES]->(item1)\"\n",
    "           \"CREATE (sandra)-[:LIKES]->(item2)\"\n",
    "           \"CREATE (christine)-[:LIKES]->(item2)\"\n",
    "           \"CREATE (alice)-[:LIKES]->(item2)\"\n",
    "           \"CREATE (carl)-[:FRIEND]->(alice)\"\n",
    "           \"CREATE (sandra)-[:FRIEND]->(alice)\"\n",
    "           \"CREATE (christine)-[:FRIEND]->(carl)\")"
   ]
  },
  {
   "cell_type": "code",
   "execution_count": 401,
   "id": "c059f315",
   "metadata": {},
   "outputs": [],
   "source": [
    "# Querying Graph Data:\n",
    "# Write a Cypher query to find all friends of a given user up to a certain depth (degree of separation).\n",
    "# Retrieve common friends between two users in the graph."
   ]
  },
  {
   "cell_type": "code",
   "execution_count": 414,
   "id": "05b07ae4",
   "metadata": {},
   "outputs": [],
   "source": [
    "def find_friends(tx, user_name, depth):\n",
    "    query = (\n",
    "        \"MATCH (u:User {name: $user_name})-[:FRIEND*1..\" + str(depth) + \"]->(f) \"\n",
    "        \"RETURN DISTINCT f.name\"\n",
    "    )\n",
    "    result = tx.run(query, user_name=user_name)\n",
    "    return [record[\"f.name\"] for record in result]\n",
    "\n",
    "\n",
    "def find_common_friends(tx, user1_name, user2_name):\n",
    "    result = tx.run(\"MATCH (u1:User {name: $user1_name})-[:FRIEND]->(f:User)<-[:FRIEND]-(u2:User {name: $user2_name})\"\n",
    "                    \"RETURN DISTINCT f.name\", user1_name=user1_name, user2_name=user2_name)\n",
    "    return [record[\"f.name\"] for record in result]\n"
   ]
  },
  {
   "cell_type": "code",
   "execution_count": 409,
   "id": "327b9f7e",
   "metadata": {},
   "outputs": [],
   "source": [
    "# Recommendation System:\n",
    "# Implement a basic recommendation system by finding users who have similar interests based on their interactions.\n",
    "# Propose movies, books, or other items that a user might be interested in based on their connections' preferences."
   ]
  },
  {
   "cell_type": "code",
   "execution_count": 416,
   "id": "fc40f28e",
   "metadata": {},
   "outputs": [],
   "source": [
    "def recommend_similar_users(tx, user_name):\n",
    "    result = tx.run(\"MATCH (u1:User {name: $user_name})-[:FRIEND]->(:User)-[:FRIEND]->(u2:User)\"\n",
    "                    \"RETURN DISTINCT u2.name\", user_name=user_name)\n",
    "    return [record[\"u2.name\"] for record in result]\n",
    "\n",
    "def recommend_interest_based(tx, user_name):\n",
    "    result = tx.run(\"MATCH (u1:User {name: $user_name})-[:FRIEND]->(f:User)-[:LIKES]->(item)\"\n",
    "                    \"RETURN DISTINCT item.name\", user_name=user_name)\n",
    "    return [record[\"item.name\"] for record in result]"
   ]
  },
  {
   "cell_type": "code",
   "execution_count": 411,
   "id": "5345b01d",
   "metadata": {},
   "outputs": [],
   "source": [
    "# Pathfinding:\n",
    "# Use graph algorithms in Neo4j to find the shortest path between two nodes in the graph.\n",
    "# Find the path of mutual friends between two users."
   ]
  },
  {
   "cell_type": "code",
   "execution_count": 497,
   "id": "7ee84535",
   "metadata": {},
   "outputs": [],
   "source": [
    "def find_shortest_path_direct_friends(tx, start_name, end_name):\n",
    "    result = tx.run(\n",
    "        \"MATCH p=allShortestPaths((start:User {name: $start_name})-[:FRIEND*1..3]-(end:User {name: $end_name})) \"\n",
    "        \"RETURN p\", start_name=start_name, end_name=end_name)\n",
    "    \n",
    "    processed_paths_set = set()\n",
    "    \n",
    "    for record in result:\n",
    "        path = record[\"p\"]\n",
    "        processed_path = [node[\"name\"] for node in path.nodes]\n",
    "        processed_paths_set.add(tuple(processed_path))\n",
    "    \n",
    "    return [list(path) for path in processed_paths_set]\n",
    "\n",
    "\n",
    "def find_mutual_friends_path(tx, user1_name, user2_name):\n",
    "    result = tx.run(\"MATCH (u1:User {name: $user1_name})-[:FRIEND]-(mf:User)-[:FRIEND]-(u2:User {name: $user2_name})\"\n",
    "                    \"RETURN COLLECT(DISTINCT mf.name) AS mutual_friends\", user1_name=user1_name, user2_name=user2_name)\n",
    "    record = result.single()\n",
    "    if record:\n",
    "        return record[\"mutual_friends\"]\n",
    "    return None\n"
   ]
  },
  {
   "cell_type": "code",
   "execution_count": 499,
   "id": "bd4999ed",
   "metadata": {
    "scrolled": false
   },
   "outputs": [
    {
     "name": "stderr",
     "output_type": "stream",
     "text": [
      "C:\\Users\\37129\\AppData\\Local\\Temp\\ipykernel_14396\\2536233134.py:3: DeprecationWarning: write_transaction has been renamed to execute_write\n",
      "  session.write_transaction(create_graph)\n"
     ]
    },
    {
     "name": "stdout",
     "output_type": "stream",
     "text": [
      "['Christine', 'Sandra', 'Carl']\n",
      "['Carl']\n",
      "['Carl', 'Alice', 'Sandra', 'Christine']\n",
      "['Book', 'Movie']\n",
      "['Carl']\n",
      "[['Alice', 'Carl', 'Christine'], ['Alice', 'Christine']]\n"
     ]
    }
   ],
   "source": [
    "# Execute data creation\n",
    "with driver.session() as session:\n",
    "    session.write_transaction(create_graph)\n",
    "    print(find_friends(session, \"Alice\", 1))\n",
    "    print(find_common_friends(session, \"Alice\", \"Sandra\"))\n",
    "    print(recommend_similar_users(session, \"Alice\"))\n",
    "    print(recommend_interest_based(session, \"Alice\"))\n",
    "    print(find_mutual_friends_path(session, \"Alice\", \"Sandra\"))\n",
    "    print(find_shortest_path_direct_friends(session, \"Alice\", \"Christine\"))\n",
    "\n",
    "\n"
   ]
  },
  {
   "cell_type": "code",
   "execution_count": null,
   "id": "a0d0af01",
   "metadata": {},
   "outputs": [],
   "source": []
  }
 ],
 "metadata": {
  "kernelspec": {
   "display_name": "Python 3 (ipykernel)",
   "language": "python",
   "name": "python3"
  },
  "language_info": {
   "codemirror_mode": {
    "name": "ipython",
    "version": 3
   },
   "file_extension": ".py",
   "mimetype": "text/x-python",
   "name": "python",
   "nbconvert_exporter": "python",
   "pygments_lexer": "ipython3",
   "version": "3.10.11"
  }
 },
 "nbformat": 4,
 "nbformat_minor": 5
}
